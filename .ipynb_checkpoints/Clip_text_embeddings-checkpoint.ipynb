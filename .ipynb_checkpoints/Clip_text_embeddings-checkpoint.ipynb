{
 "cells": [
  {
   "cell_type": "code",
   "execution_count": 1,
   "id": "98770194",
   "metadata": {},
   "outputs": [],
   "source": [
    "import transformers\n",
    "from transformers import CLIPConfig, CLIPModel, CLIPProcessor, CLIPImageProcessor, CLIPTokenizerFast\n",
    "import torch\n",
    "import torch.nn as nn\n",
    "import torch.nn.functional as F\n",
    "import torch.optim.lr_scheduler as lr_scheduler\n",
    "import numpy as np\n",
    "import random\n",
    "import math\n",
    "import scipy.io as sio\n",
    "import nibabel as nib\n",
    "from pathlib import Path\n",
    "from gensim.models import Word2Vec\n",
    "import re"
   ]
  },
  {
   "cell_type": "code",
   "execution_count": 55,
   "id": "fd035b4a",
   "metadata": {},
   "outputs": [],
   "source": [
    "mat_contents = sio.loadmat('../doi_10.5061_dryad.gt413__v1/subject_1.mat')\n",
    "words = mat_contents[\"words\"][0]\n",
    "list_words = []\n",
    "run = []\n",
    "length = 4\n",
    "\n",
    "scan = []\n",
    "for x in words:\n",
    "    #print(x[2][0][0])\n",
    "    if x[2][0][0] < 9:\n",
    "        word = x[0][0][0][0]\n",
    "        while('\"' in word):\n",
    "            word = word.replace('\"','')\n",
    "        if len(scan) < length:\n",
    "            scan.append(word)\n",
    "        else:\n",
    "            run.append(\" \".join(scan))\n",
    "            scan = []\n",
    "    else:\n",
    "        if len(scan) != 0:\n",
    "            run.append(\" \".join(scan))\n",
    "            scan = []\n",
    "        list_words.append(run)\n",
    "        run = []\n",
    "        scan = []\n",
    "        \n",
    "\n",
    "        "
   ]
  },
  {
   "cell_type": "code",
   "execution_count": 56,
   "id": "b8968943",
   "metadata": {},
   "outputs": [
    {
     "name": "stdout",
     "output_type": "stream",
     "text": [
      "4\n",
      "[['Harry had never believed', 'would meet a boy', 'hated more than Dudley,', 'that was before he', 'Draco Malfoy. Still, first-year', 'only had Potions with', \"Slytherins, so they didn't\", 'to put up with', 'much. Or at least,', \"didn't until they spotted\", 'notice pinned up in', 'Gryffindor common room that', 'them all groan. Flying', 'would be starting on', '-- and Gryffindor and', 'would be learning together.', 'Typical, said Harry darkly.', 'what I always wanted.', 'make a fool of', 'on a broomstick in', 'of Malfoy. + He', 'been looking forward to', 'to fly more than', \"else. You don't know\", \"you'll make a fool\", 'yourself, said Ron reasonably.', \"I know Malfoy's always\", 'on about how good', 'is at Quidditch, but', \"bet that's all talk.\", 'Malfoy certainly did talk', 'flying a lot. He', 'loudly about first years', 'getting on the House', 'teams and told long,', 'stories that always seemed', 'end with him narrowly', 'Muggles in helicopters. He', 'the only one, though:', 'way Seamus Finnigan told', \"he'd spent most of\", 'childhood zooming around the', 'on his broomstick. Even', \"would tell anyone who'd\", \"about the time he'd\", 'hit a hang glider', \"Charlie's old broom. Everyone\", 'wizarding families talked about', 'constantly. Ron had already', 'a big argument with', 'Thomas, who shared their', \"about soccer. Ron couldn't\", 'what was exciting about', 'game with only one', 'where no one was', 'to fly. Harry had', \"Ron prodding Dean's poster\", 'West Ham soccer team,', 'to make the players', '+ Neville had never', 'on a broomstick in', 'life, because his grandmother', 'never let him near', \"Privately, Harry felt she'd\", 'good reason, because Neville', 'to have an extraordinary', 'of accidents even with', 'feet on the ground.', 'Hermione Granger was almost', 'nervous about flying as', 'was. This was something', \"couldn't learn by heart\", 'of a book --', \"that she hadn't tried.\", 'breakfast on Thursday she', 'them all stupid with', \"tips she'd gotten out\", 'a library book called', '@Through @the @Ages. Neville', 'hanging on to her', 'word, desperate for anything', 'might help him hang', 'to his broomstick later,', 'everybody else was very', \"when Hermione's lecture was\", 'by the arrival of', \"mail. + Harry hadn't\", 'a single letter since', 'note, something that Malfoy', 'been quick to notice,', \"course. Malfoy's eagle owl\", 'always bringing him packages', 'sweets from home, which', 'opened gloatingly at the', 'table. + A barn', 'brought Neville a small', 'from his grandmother. He', 'it excitedly and showed', 'a glass ball the', 'of a large marble,', 'seemed to be full', \"white smoke. + It's\", 'Remembrall! he explained. Gran', 'I forget things --', \"tells you if there's\", \"you've forgotten to do.\", 'you hold it tight', 'this and if it', 'red -- oh …', 'face fell, because the', 'had suddenly glowed scarlet,', \"you've forgotten something …\", 'Neville was trying to', \"what he'd forgotten when\", 'Malfoy, who was passing', 'Gryffindor table, snatched the', 'out of his hand.', 'Harry and Ron jumped', 'their feet. They were', 'hoping for a reason', 'fight Malfoy, but Professor', 'who could spot trouble', 'than any teacher in', 'school, was there in', \"flash. + What's going\", \"+ Malfoy's got my\", 'Professor. + Scowling, Malfoy', 'dropped the Remembrall back', 'the table. + Just', 'he said, and he', 'away with Crabbe and', 'behind him. + +', 'three-thirty that afternoon, Harry,', 'and the other Gryffindors', 'down the front steps', 'the grounds for their', 'flying lesson. It was', 'clear, breezy day, and', 'grass rippled under their', 'as they marched down', 'sloping lawns toward a', 'flat lawn on the', 'side of the grounds', 'the forbidden forest, whose', 'were swaying darkly in', 'distance. + The Slytherins', 'already there, and so', 'twenty broomsticks lying in', 'lines on the ground.', 'had heard Fred and', 'Weasley complain about the', 'brooms, saying that some', 'them started to vibrate', 'you flew too high,', 'always flew slightly to', 'left. + Their teacher,', 'Hooch, arrived. She had', 'gray hair, and yellow', 'like a hawk. +', 'what are you all', 'for? she barked. Everyone', 'by a broomstick. Come', 'hurry up. + Harry', 'down at his broom.', 'was old and some', 'the twigs stuck out', 'odd angles. + Stick', 'your right hand over', 'broom, called Madam Hooch', 'the front, and say', '+ UP! everyone shouted.', \"Harry's broom jumped into\", 'hand at once, but', 'was one of the', \"that did. Hermione Granger's\", 'simply rolled over on', \"ground, and Neville's hadn't\", 'at all. Perhaps brooms,', 'horses, could tell when', 'were afraid, thought Harry;', 'was a quaver in', 'voice that said only', 'clearly that he wanted', 'keep his feet on', 'ground. + Madam Hooch', 'showed them how to', 'their brooms without sliding', 'the end, and walked', 'and down the rows', 'their grips. Harry and', 'were delighted when she', \"Malfoy he'd been doing\", 'wrong for years. +', 'when I blow my', 'you kick off from', 'ground, hard, said Madam', 'Keep your brooms steady,', 'a few feet, and', 'come straight back down', 'leaning forward slightly. On', 'whistle -- three --', '— + But Neville,', 'and jumpy and frightened', 'being left on the', 'pushed off hard before', 'whistle had touched Madam', 'lips. + Come back,', 'she shouted, but Neville', 'rising straight up like', 'cork shot out of', 'bottle -- twelve feet', 'twenty feet. Harry saw', 'scared white face look', 'at the ground falling', 'saw him gasp, slip', 'off the broom and', '+ WHAM -- a', 'and a nasty crack', 'Neville lay facedown on', 'grass in a heap.', 'broomstick was still rising', 'and higher, and started', 'drift lazily toward the', 'forest and out of', '+ Madam Hooch was', 'over Neville, her face', 'white as his. Broken', 'Harry heard her mutter.', \"on, boy -- it's\", 'right, up you get.', 'She turned to the', 'of the class. None', 'you is to move', 'I take this boy', 'the hospital wing! You', 'those brooms where they', \"or you'll be out\", 'Hogwarts before you can', \"‘Quidditch.' Come on, dear.\", 'Neville, his face tear-streaked,', 'his wrist, hobbled off', 'Madam Hooch, who had', 'arm around him. +', 'sooner were they out', 'earshot than Malfoy burst', 'laughter. + Did you', 'his face, the great', '+ The other Slytherins', 'in. + Shut up,', 'snapped Parvati Patil. +', 'sticking up for Longbottom?', 'Pansy Parkinson, a hard-faced', \"girl. Never thought @you'd\", 'fat little crybabies, Parvati.', 'Look! said Malfoy, darting', 'and snatching something out', \"the grass. It's that\", \"thing Longbottom's gran sent\", '+ The Remembrall glittered', 'the sun as he', 'it up.'], ['Give that here, Malfoy,', 'Harry quietly. Everyone stopped', 'to watch. + Malfoy', \"nastily. I think I'll\", 'it somewhere for Longbottom', 'find -- how about', 'up a tree? +', 'it @here! Harry yelled,', 'Malfoy had leapt onto', 'broomstick and taken off.', \"hadn't been lying, he\", 'fly well. Hovering level', 'the topmost branches of', 'oak he called, Come', 'get it, Potter! +', 'grabbed his broom. +', 'shouted Hermione Granger. Madam', 'told us not to', \"-- you'll get us\", 'into trouble. + Harry', 'her. Blood was pounding', 'his ears. He mounted', 'broom and kicked hard', 'the ground and up,', 'he soared; air rushed', 'his hair, and his', 'whipped out behind him', 'and in a rush', 'fierce joy he realized', 'found something he could', 'without being taught --', 'was easy, this was', 'He pulled his broomstick', 'a little to take', 'even higher, and heard', 'and gasps of girls', 'on the ground and', 'admiring whoop from Ron.', 'He turned his broomstick', 'to face Malfoy in', '+ Malfoy looked stunned.', 'it here, Harry called,', \"I'll knock you off\", 'broom! + Oh, yeah?', 'Malfoy, trying to sneer,', 'looking worried. + Harry', 'somehow, what to do.', 'leaned forward and grasped', 'broom tightly in both', 'and it shot toward', 'like a javelin. Malfoy', 'just got out of', 'way in time; Harry', 'a sharp about-face and', 'the broom steady. A', 'people below were clapping.', 'No Crabbe and Goyle', 'here to save your', 'Malfoy, Harry called. +', 'same thought seemed to', 'struck Malfoy. + Catch', 'if you can, then!', 'shouted, and he threw', 'glass ball high into', 'air and streaked back', 'the ground. + Harry', 'as though in slow', 'the ball rise up', 'the air and then', 'to fall. He leaned', 'and pointed his broom', 'down -- next second', 'was gathering speed in', 'steep dive, racing the', '-- wind whistled in', 'ears, mingled with the', 'of people watching --', 'stretched out his hand', 'a foot from the', 'he caught it, just', 'time to pull his', 'straight, and he toppled', 'onto the grass with', 'Remembrall clutched safely in', 'fist. + HARRY POTTER!', 'His heart sank faster', \"he'd just dived. Professor\", 'was running toward them.', 'got to his feet,', '+ @Never -- in', 'my time at Hogwarts', 'Professor McGonagall was almost', 'with shock, and her', 'flashed furiously, — how', 'you -- might have', 'your neck — +', \"wasn't his fault, Professor\", '+ Be quiet, Miss', '— + But Malfoy', \"That's enough, Mr. Weasley.\", 'follow me, now. +', 'caught sight of Malfoy,', \"and Goyle's triumphant faces\", 'he left, walking numbly', \"Professor McGonagall's wake as\", 'strode toward the castle.', 'was going to be', 'he just knew it.', 'wanted to say something', 'defend himself, but there', 'to be something wrong', 'his voice. Professor McGonagall', 'sweeping along without even', 'at him; he had', 'jog to keep up.', \"he'd done it. He\", 'even lasted two weeks.', 'be packing his bags', 'ten minutes. What would', 'Dursleys say when he', 'up on the doorstep?', 'Up the front steps,', 'the marble staircase inside,', \"still Professor McGonagall didn't\", 'a word to him.', 'wrenched open doors and', 'along corridors with Harry', 'miserably behind her. Maybe', 'was taking him to', 'He thought of Hagrid,', 'but allowed to stay', 'as gamekeeper. Perhaps he', \"be Hagrid's assistant. His\", 'twisted as he imagined', 'watching Ron and the', 'becoming wizards while he', 'around the grounds carrying', 'bag. + Professor McGonagall', 'outside a classroom. She', 'the door and poked', 'head inside. + Excuse', 'Professor Flitwick, could I', 'Wood for a moment?', 'Wood? thought Harry, bewildered;', 'Wood a cane she', 'going to use on', 'But Wood turned out', 'be a person, a', 'fifth-year boy who came', \"of Flitwick's class looking\", '+ Follow me, you', 'said Professor McGonagall, and', 'marched on up the', 'Wood looking curiously at', '+ In here. +', 'McGonagall pointed them into', 'classroom that was empty', 'for Peeves, who was', 'writing rude words on', 'blackboard. + Out, Peeves!', 'barked. Peeves threw the', 'into a bin, which', 'loudly, and he swooped', 'cursing. Professor McGonagall slammed', 'door behind him and', 'to face the two', '+ Potter, this is', \"Wood. Wood -- I've\", 'you a Seeker. +', 'expression changed from puzzlement', 'delight. + Are you', 'Professor? + Absolutely, said', \"McGonagall crisply. The boy's\", \"natural. I've never seen\", 'like it. Was that', 'first time on a', 'Potter? + Harry nodded', \"He didn't have a\", 'what was going on,', \"he didn't seem to\", 'being expelled, and some', 'the feeling started coming', 'to his legs. +', 'caught that thing in', 'hand after a fifty-foot', 'Professor McGonagall told Wood.', 'even scratch himself. Charlie', \"couldn't have done it.\", 'Wood was now looking', 'though all his dreams', 'come true at once.', 'Ever seen a game', 'Quidditch, Potter? he asked', \"+ Wood's captain of\", 'Gryffindor team, Professor McGonagall', \"+ He's just the\", 'for a Seeker, too,', 'Wood, now walking around', 'and staring at him.', \"-- speedy -- we'll\", 'to get him a', 'broom, Professor -- a', 'Two Thousand or a', \"Seven, I'd say. +\", 'shall speak to Professor', 'and see if we', 'bend the first-year rule.', 'knows, we need a', 'team than last year.', 'in that last match', \"Slytherin, I couldn't look\", 'Snape in the face', 'weeks. …. + Professor', 'peered sternly over her', 'at Harry. + I', \"to hear you're training\", 'Potter, or I may', 'my mind about punishing', '+ Then she suddenly', '+ Your father would', 'been proud, she said.', 'was an excellent Quidditch', \"himself. + + You're\", '+ It was dinnertime.', 'had just finished telling', 'what had happened when', 'left the grounds with', 'McGonagall. Ron had a', 'of steak and kidney', 'halfway to his mouth,', \"he'd forgotten all about\", '+ @Seeker? he said.', 'first years @never --', 'must be the youngest', 'player in about —', '— a century, said', 'shoveling pie into his', 'He felt particularly hungry', 'the excitement of the', 'Wood told me. +', 'was so amazed, so', 'he just sat and', 'at Harry. + I', 'training next week, said', \"Only don't tell anyone,\", 'wants to keep it', 'secret. + Fred and', 'Weasley now came into', 'hall, spotted Harry, and', 'over. + Well done,', 'George in a low', \"Wood told us. We're\", 'the team too --', '+ I tell you,', 'going to win that', 'Cup for sure this', \"said Fred. We haven't\", 'since Charlie left, but', \"year's team is going\", 'be brilliant. You must', 'good, Harry, Wood was', 'skipping when he told', \"+ Anyway, we've got\", 'go, Lee Jordan reckons', 'found a new secret', 'out of the school.', \"Bet it's that one\", 'the statue of Gregory', 'Smarmy that we found', 'our first week. See'], ['Fred and George had', 'disappeared when someone far', 'welcome turned up: Malfoy,', 'by Crabbe and Goyle.', 'Having a last meal,', 'When are you getting', 'train back to the', \"+ You're a lot\", \"now that you're back\", \"the ground and you've\", 'your little friends with', 'said Harry coolly. There', 'of course nothing at', 'little about Crabbe and', 'but as the High', 'was full of teachers,', 'of them could do', 'than crack their knuckles', \"scowl. + I'd take\", 'on anytime on my', 'said Malfoy. Tonight, if', \"want. Wizard's duel. Wands\", \"-- no contact. What's\", 'matter? Never heard of', \"wizard's duel before, I\", '+ Of course he', 'said Ron, wheeling around.', \"his second, who's yours?\", 'Malfoy looked at Crabbe', 'Goyle, sizing them up.', 'Crabbe, he said. Midnight', \"right? We'll meet you\", \"the trophy room; that's\", 'unlocked. + When Malfoy', 'gone, Ron and Harry', 'at each other. +', \"@is a wizard's duel?\", 'Harry. And what do', \"mean, you're my second?\", \"Well, a second's there\", 'take over if you', 'said Ron casually, getting', 'at last on his', 'pie. Catching the look', \"Harry's face, he added\", 'But people only die', 'proper duels, you know,', 'real wizards. The most', \"and Malfoy'll be able\", 'do is send sparks', 'each other. Neither of', 'knows enough magic to', 'any real damage. I', 'he expected you to', 'anyway. + And what', 'I wave my wand', 'nothing happens? + Throw', 'away and punch him', 'the nose, Ron suggested.', 'Excuse me. + They', 'looked up. It was', \"Granger. + Can't a\", 'eat in peace in', 'place? said Ron. +', 'ignored him and spoke', \"Harry. I couldn't help\", 'what you and Malfoy', 'saying — + Bet', 'could, Ron muttered. +', \"and you @mustn't go\", 'around the school at', 'think of the points', \"lose Gryffindor if you're\", \"and you're bound to\", \"It's really very selfish\", \"you. + And it's\", 'none of your business,', 'Harry. + Good-bye, said', '+ + All the', \"it wasn't what you'd\", 'the perfect end to', 'day, Harry thought, as', 'lay awake much later', 'to Dean and Seamus', \"asleep (Neville wasn't back\", 'the hospital wing). Ron', 'spent all evening giving', 'advice such as If', 'tries to curse you,', 'better dodge it, because', \"can't remember how to\", 'them. There was a', 'good chance they were', 'to get caught by', 'or Mrs. Norris, and', 'felt he was pushing', 'luck, breaking another school', 'today. On the other', \"Malfoy's sneering face kept\", 'up out of the', '-- this was his', 'chance to beat Malfoy', \"He couldn't miss it.\", 'Half-past eleven, Ron muttered', \"last, we'd better go.\", 'They pulled on their', 'picked up their wands,', 'crept across the tower', 'down the spiral staircase,', 'into the Gryffindor common', 'A few embers were', 'glowing in the fireplace,', 'all the armchairs into', 'black shadows. They had', 'reached the portrait hole', 'a voice spoke from', 'chair nearest them, I', \"believe you're going to\", 'this, Harry. + A', 'flickered on. It was', 'Granger, wearing a pink', 'and a frown. +', 'said Ron furiously. Go', 'to bed! + I', 'told your brother, Hermione', \"Percy -- he's a\", \"he'd put a stop\", \"this. + Harry couldn't\", 'anyone could be so', '+ Come on, he', 'to Ron. He pushed', 'the portrait of the', 'Lady and climbed through', \"hole. + Hermione wasn't\", 'to give up that', 'She followed Ron through', 'portrait hole, hissing at', 'like an angry goose.', 'you @care about Gryffindor,', 'you @only care about', \"I don't want Slytherin\", 'win the House Cup,', \"you'll lose all the\", 'I got from Professor', 'for knowing about Switching', '+ Go away. +', 'right, but I warned', 'you just remember what', \"said when you're on\", \"train home tomorrow, you're\", '— + But what', \"were, they didn't find\", 'Hermione had turned to', 'portrait of the Fat', 'to get back inside', 'found herself facing an', 'painting. The Fat Lady', 'gone on a nighttime', 'and Hermione was locked', 'of Gryffindor Tower. +', 'what am I going', 'do? she asked shrilly.', \"That's your problem, said\", \"We've got to go,\", 'going to be late.', \"They hadn't even reached\", 'end of the corridor', 'Hermione caught up with', \"+ I'm coming with\", 'she said. You are', \"+ D'you think I'm\", 'to stand out here', 'wait for Filch to', 'me? If he finds', \"three of us I'll\", 'him the truth, that', 'was trying to stop', 'and you can back', \"up. + You've got\", 'nerve — said Ron', '+ Shut up, both', 'you! said Harry sharply.', 'heard something. + It', 'a sort of snuffling.', 'Mrs. Norris? breathed Ron,', 'through the dark. +', \"wasn't Mrs. Norris. It\", 'Neville. He was curled', 'on the floor, fast', 'but jerked suddenly awake', 'they crept nearer. +', 'goodness you found me!', 'been out here for', \"I couldn't remember the\", 'password to get in', 'bed. + Keep your', \"down, Neville. The password's\", \"snout' but it won't\", 'you now, the Fat', 'gone off somewhere. +', 'your arm? said Harry.', 'Fine, said Neville, showing', 'Madam Pomfrey mended it', 'about a minute. +', '-- well, look, Neville,', 'got to be somewhere,', 'see you later —', \"Don't leave me! said\", 'scrambling to his feet,', \"don't want to stay\", \"alone, the Bloody Baron's\", 'past twice already.'], ['Ron looked at his', 'and then glared furiously', 'Hermione and Neville. +', 'either of you get', \"caught, I'll never rest\", \"I've learned that Curse\", 'the Bogies Quirrell told', 'about, and used it', 'you. + Hermione opened', 'mouth, perhaps to tell', 'exactly how to use', 'Curse of the Bogies,', 'Harry hissed at her', 'be quiet and beckoned', 'all forward. + They', 'along corridors striped with', 'of moonlight from the', 'windows. At every turn', 'expected to run into', 'or Mrs. Norris, but', 'were lucky. They sped', 'a staircase to the', 'floor and tiptoed toward', 'trophy room. + Malfoy', \"Crabbe weren't there yet.\", 'crystal trophy cases glimmered', 'the moonlight caught them.', 'shields, plates, and statues', 'silver and gold in', 'darkness. They edged along', 'walls, keeping their eyes', 'the doors at either', 'of the room. Harry', 'out his wand in', 'Malfoy leapt in and', 'at once. The minutes', \"by. + He's late,\", \"he's chickened out, Ron\", '+ Then a noise', 'the next room made', 'jump. Harry had only', 'raised his wand when', 'heard someone speak --', \"it wasn't Malfoy. +\", 'around, my sweet, they', 'be lurking in a', '+ It was Filch', 'to Mrs. Norris. Horror-struck,', 'waved madly at the', 'three to follow him', 'quickly as possible; they', 'silently toward the door,', \"from Filch's voice. Neville's\", 'had barely whipped round', 'corner when they heard', 'enter the trophy room.', \"They're in here somewhere,\", 'heard him mutter, probably', '+ This way! Harry', 'to the others and,', 'they began to creep', 'a long gallery full', 'suits of armor. +', 'could hear Filch getting', 'Neville suddenly let out', 'frightened squeak and broke', 'a run -- he', 'grabbed Ron around the', 'and the pair of', 'toppled right into a', 'of armor. + The', 'and crashing were enough', 'wake the whole castle.', 'RUN! Harry yelled, and', 'four of them sprinted', 'the gallery, not looking', 'to see whether Filch', 'following -- they swung', 'the doorpost and galloped', 'one corridor then another,', 'in the lead, without', 'idea where they were', 'where they were going', 'they ripped through a', 'and found themselves in', 'hidden passageway, hurtled along', 'and came out near', 'Charms classroom, which they', 'was miles from the', 'room. + I think', 'lost him, Harry panted,', 'against the cold wall', 'wiping his forehead. Neville', 'bent double, wheezing and', '+ I -- @told', 'you, Hermione gasped, clutching', 'the stitch in her', 'I -- told --', \"+ We've got to\", 'back to Gryffindor Tower,', 'Ron, quickly as possible.', 'Malfoy tricked you, Hermione', 'to Harry. You realize', \"don't you? He was\", 'going to meet you', 'Filch knew someone was', 'to be in the', 'room, Malfoy must have', 'him off. + Harry', 'she was probably right,', \"he wasn't going to\", \"her that. + Let's\", \"+ It wasn't going\", 'be that simple. They', 'gone more than a', 'paces when a doorknob', 'and something came shooting', 'of a classroom in', 'of them. + It', 'Peeves. He caught sight', 'them and gave a', 'of delight. + Shut', 'Peeves -- please --', 'get us thrown out.', 'Peeves cackled. + Wandering', 'at midnight, Ickle Firsties?', 'tut, tut. Naughty, naughty,', 'get caughty. + Not', \"you don't give us\", 'Peeves, please. + Should', 'Filch, I should, said', 'in a saintly voice,', 'his eyes glittered wickedly.', 'for your own good,', 'know. + Get out', 'the way, snapped Ron,', 'a swipe at Peeves', 'this was a big', '+ STUDENTS OUT OF', 'Peeves bellowed, STUDENTS OUT', 'BED DOWN THE CHARMS', '+ Ducking under Peeves,', 'ran for their lives,', 'to the end of', 'corridor where they slammed', 'a door -- and', 'was locked. + This', 'it! Ron moaned, as', 'pushed helplessly at the', \"We're done for! This\", 'the end! + They', 'hear footsteps, Filch running', 'fast as he could', \"Peeves's shouts. + Oh,\", 'over, Hermione snarled. She', \"Harry's wand, tapped the\", 'and whispered, @Alohomora! +', 'lock clicked and the', 'swung open -- they', 'through it, shut it', 'and pressed their ears', 'it, listening. + Which', 'did they go, Peeves?', 'was saying. Quick, tell', \"Say ‘please.' + Don't\", 'with me, Peeves, now', \"@did @they @go? Shan't\", \"nothing if you don't\", 'please, said Peeves in', 'annoying singsong voice. All', '-- @please. + NOTHING!', 'haaa! Told you I', 'say nothing if you', 'say please! Ha ha!', 'And they heard the', 'of Peeves whooshing away', 'Filch cursing in rage.', 'He thinks this door', 'locked, Harry whispered. I', \"we'll be okay --\", '@off, Neville! For Neville', 'been tugging on the', \"of Harry's bathrobe for\", 'last minute. @What? +', 'turned around -- and', 'quite clearly, what. For', 'moment, he was sure', 'walked into a nightmare', 'this was too much,', 'top of everything that', 'happened so far. +', \"weren't in a room,\", 'he had supposed. They', 'in a corridor. The', 'corridor on the third', 'And now they knew', 'it was forbidden. +', 'were looking straight into', 'eyes of a monstrous', 'a dog that filled', 'whole space between ceiling', 'floor. It had three', 'Three pairs of rolling,', 'eyes; three noses, twitching', 'quivering in their direction;', 'drooling mouths, saliva hanging', 'slippery ropes from yellowish', '+ It was standing', 'still, all six eyes', 'at them, and Harry', 'that the only reason', \"weren't already dead was\", 'their sudden appearance had', 'it by surprise, but', 'was quickly getting over', 'there was no mistaking', 'those thunderous growls meant.', 'Harry groped for the', '-- between Filch and', \"he'd take Filch. +\", 'fell backward -- Harry', 'the door shut, and', 'ran, they almost flew,', 'down the corridor. Filch', 'have hurried off to', 'for them somewhere else,', \"they didn't see him\", 'but they hardly cared', 'all they wanted to', 'was put as much', 'as possible between them', \"that monster. They didn't\", 'running until they reached', 'portrait of the Fat', 'on the seventh floor.', 'Where on earth have', 'all been? she asked,', 'at their bathrobes hanging', 'their shoulders and their', 'sweaty faces. + Never', 'that -- pig snout,', 'snout, panted Harry, and', 'portrait swung forward. They', 'into the common room', 'collapsed, trembling, into armchairs.', 'It was a while', 'any of them said', 'Neville, indeed, looked as', \"he'd never speak again.\", 'What do they think', 'doing, keeping a thing', 'that locked up in', 'school? said Ron finally.', 'any dog needs exercise,', 'one does. + Hermione', 'got both her breath', 'her bad temper back', \"+ You don't use\", 'eyes, any of you,', \"you? she snapped. Didn't\", 'see what it was', 'on? + The floor?', \"suggested. I wasn't looking\", 'its feet, I was', 'busy with its heads.', 'No, @not the floor.', 'was standing on a', \"It's obviously guarding something.\", 'She stood up, glaring', 'them. + I hope', 'pleased with yourselves. We', 'all have been killed', 'or worse, expelled. Now,', \"you don't mind, I'm\", 'to bed. + Ron', 'after her, his mouth', \"No, we don't mind,\", \"said. You'd think we\", \"her along, wouldn't you?\", 'But Hermione had given', 'something else to think', 'as he climbed back', 'bed. The dog was', 'something. . . .', 'had Hagrid said? Gringotts', 'the safest place in', 'world for something you', 'to hide -- except', 'Hogwarts. + It looked', 'though Harry had found', 'where the grubby little', 'from vault seven hundred', 'thirteen was.']]\n"
     ]
    }
   ],
   "source": [
    "print(len(list_words))\n",
    "print(list_words)"
   ]
  },
  {
   "cell_type": "code",
   "execution_count": 57,
   "id": "eaa6d8e1",
   "metadata": {},
   "outputs": [
    {
     "name": "stderr",
     "output_type": "stream",
     "text": [
      "`text_config_dict` is provided which will be used to initialize `CLIPTextConfig`. The value `text_config[\"id2label\"]` will be overriden.\n",
      "`text_config_dict` is provided which will be used to initialize `CLIPTextConfig`. The value `text_config[\"bos_token_id\"]` will be overriden.\n",
      "`text_config_dict` is provided which will be used to initialize `CLIPTextConfig`. The value `text_config[\"eos_token_id\"]` will be overriden.\n"
     ]
    },
    {
     "data": {
      "application/json": {
       "ascii": false,
       "bar_format": null,
       "colour": null,
       "elapsed": 0.01979804039001465,
       "initial": 0,
       "n": 0,
       "ncols": null,
       "nrows": 22,
       "postfix": null,
       "prefix": "Downloading model.safetensors",
       "rate": null,
       "total": 1710540580,
       "unit": "B",
       "unit_divisor": 1000,
       "unit_scale": true
      },
      "application/vnd.jupyter.widget-view+json": {
       "model_id": "62a694bb6e164587bde3d4a9bed8b954",
       "version_major": 2,
       "version_minor": 0
      },
      "text/plain": [
       "Downloading model.safetensors:   0%|          | 0.00/1.71G [00:00<?, ?B/s]"
      ]
     },
     "metadata": {},
     "output_type": "display_data"
    },
    {
     "data": {
      "application/json": {
       "ascii": false,
       "bar_format": null,
       "colour": null,
       "elapsed": 0.018373966217041016,
       "initial": 0,
       "n": 0,
       "ncols": null,
       "nrows": 22,
       "postfix": null,
       "prefix": "Downloading (…)rocessor_config.json",
       "rate": null,
       "total": 316,
       "unit": "B",
       "unit_divisor": 1000,
       "unit_scale": true
      },
      "application/vnd.jupyter.widget-view+json": {
       "model_id": "c5936e2468764e7989eb9a46031c1d65",
       "version_major": 2,
       "version_minor": 0
      },
      "text/plain": [
       "Downloading (…)rocessor_config.json:   0%|          | 0.00/316 [00:00<?, ?B/s]"
      ]
     },
     "metadata": {},
     "output_type": "display_data"
    },
    {
     "data": {
      "application/json": {
       "ascii": false,
       "bar_format": null,
       "colour": null,
       "elapsed": 0.013484001159667969,
       "initial": 0,
       "n": 0,
       "ncols": null,
       "nrows": 22,
       "postfix": null,
       "prefix": "Downloading (…)okenizer_config.json",
       "rate": null,
       "total": 905,
       "unit": "B",
       "unit_divisor": 1000,
       "unit_scale": true
      },
      "application/vnd.jupyter.widget-view+json": {
       "model_id": "728be4737d774f4a977ed53630c0b906",
       "version_major": 2,
       "version_minor": 0
      },
      "text/plain": [
       "Downloading (…)okenizer_config.json:   0%|          | 0.00/905 [00:00<?, ?B/s]"
      ]
     },
     "metadata": {},
     "output_type": "display_data"
    },
    {
     "data": {
      "application/json": {
       "ascii": false,
       "bar_format": null,
       "colour": null,
       "elapsed": 0.014201164245605469,
       "initial": 0,
       "n": 0,
       "ncols": null,
       "nrows": 22,
       "postfix": null,
       "prefix": "Downloading (…)olve/main/vocab.json",
       "rate": null,
       "total": 961143,
       "unit": "B",
       "unit_divisor": 1000,
       "unit_scale": true
      },
      "application/vnd.jupyter.widget-view+json": {
       "model_id": "cf0ad95b5a884e1ea274d73c12a927f9",
       "version_major": 2,
       "version_minor": 0
      },
      "text/plain": [
       "Downloading (…)olve/main/vocab.json:   0%|          | 0.00/961k [00:00<?, ?B/s]"
      ]
     },
     "metadata": {},
     "output_type": "display_data"
    },
    {
     "data": {
      "application/json": {
       "ascii": false,
       "bar_format": null,
       "colour": null,
       "elapsed": 0.015376806259155273,
       "initial": 0,
       "n": 0,
       "ncols": null,
       "nrows": 22,
       "postfix": null,
       "prefix": "Downloading (…)olve/main/merges.txt",
       "rate": null,
       "total": 524619,
       "unit": "B",
       "unit_divisor": 1000,
       "unit_scale": true
      },
      "application/vnd.jupyter.widget-view+json": {
       "model_id": "4b82795effec4d988846dd5a99a51f86",
       "version_major": 2,
       "version_minor": 0
      },
      "text/plain": [
       "Downloading (…)olve/main/merges.txt:   0%|          | 0.00/525k [00:00<?, ?B/s]"
      ]
     },
     "metadata": {},
     "output_type": "display_data"
    },
    {
     "data": {
      "application/json": {
       "ascii": false,
       "bar_format": null,
       "colour": null,
       "elapsed": 0.02041316032409668,
       "initial": 0,
       "n": 0,
       "ncols": null,
       "nrows": 22,
       "postfix": null,
       "prefix": "Downloading (…)/main/tokenizer.json",
       "rate": null,
       "total": 2224003,
       "unit": "B",
       "unit_divisor": 1000,
       "unit_scale": true
      },
      "application/vnd.jupyter.widget-view+json": {
       "model_id": "83f9222ea5ba487bb9cc55f2654e4cbc",
       "version_major": 2,
       "version_minor": 0
      },
      "text/plain": [
       "Downloading (…)/main/tokenizer.json:   0%|          | 0.00/2.22M [00:00<?, ?B/s]"
      ]
     },
     "metadata": {},
     "output_type": "display_data"
    },
    {
     "data": {
      "application/json": {
       "ascii": false,
       "bar_format": null,
       "colour": null,
       "elapsed": 0.0178680419921875,
       "initial": 0,
       "n": 0,
       "ncols": null,
       "nrows": 22,
       "postfix": null,
       "prefix": "Downloading (…)cial_tokens_map.json",
       "rate": null,
       "total": 389,
       "unit": "B",
       "unit_divisor": 1000,
       "unit_scale": true
      },
      "application/vnd.jupyter.widget-view+json": {
       "model_id": "be8b61d0bafb4ce2a06f10c03c9a9700",
       "version_major": 2,
       "version_minor": 0
      },
      "text/plain": [
       "Downloading (…)cial_tokens_map.json:   0%|          | 0.00/389 [00:00<?, ?B/s]"
      ]
     },
     "metadata": {},
     "output_type": "display_data"
    }
   ],
   "source": [
    "from transformers import CLIPProcessor, CLIPModel\n",
    "from PIL import Image\n",
    "import requests\n",
    "\n",
    "url = \"http://images.cocodataset.org/val2017/000000039769.jpg\"\n",
    "image = Image.open(requests.get(url, stream=True).raw)\n",
    "\n",
    "model = CLIPModel.from_pretrained(\"openai/clip-vit-large-patch14\")\n",
    "processor = CLIPProcessor.from_pretrained(\"openai/clip-vit-large-patch14\")\n",
    "\n",
    "inputs = processor(text=list_words[0], images=image, return_tensors=\"pt\", padding=True)\n",
    "outputs = model(**inputs)\n",
    "# text_embeds is in the same space as the given image\n",
    "text_embeds = outputs['text_embeds']\n",
    "\n",
    "# pooler_output is just the text embedding \n",
    "# This is what we want to use I think \n",
    "pooler_output = outputs['text_model_output']['pooler_output']"
   ]
  },
  {
   "cell_type": "code",
   "execution_count": 60,
   "id": "0ff0636c",
   "metadata": {},
   "outputs": [
    {
     "name": "stdout",
     "output_type": "stream",
     "text": [
      "tensor([[-0.7876, -1.6431,  1.6882,  ...,  0.2024, -0.9249, -0.7751],\n",
      "        [ 0.2186, -1.0752,  0.0877,  ..., -1.6650,  0.8878, -1.0070],\n",
      "        [ 0.2151, -0.9554,  1.6817,  ...,  0.4437,  0.3204,  0.3724],\n",
      "        ...,\n",
      "        [-0.7533, -1.1989, -0.1625,  ..., -0.7693, -1.1238, -0.2306],\n",
      "        [-0.5395,  1.6301,  0.5859,  ..., -1.2589, -1.1547, -0.2034],\n",
      "        [ 0.5473,  0.7523,  0.1416,  ..., -0.4999, -0.5300,  0.9937]],\n",
      "       grad_fn=<IndexBackward0>)\n",
      "tensor([[ 0.0181,  0.0116, -0.0054,  ..., -0.0141, -0.0253,  0.0194],\n",
      "        [ 0.0138, -0.0112,  0.0184,  ...,  0.0176, -0.0231,  0.0341],\n",
      "        [ 0.0290,  0.0164,  0.0088,  ...,  0.0096, -0.0047, -0.0099],\n",
      "        ...,\n",
      "        [ 0.0365, -0.0249,  0.0473,  ...,  0.0166,  0.0396,  0.0049],\n",
      "        [ 0.0096,  0.0085,  0.0144,  ..., -0.0061,  0.0084, -0.0091],\n",
      "        [-0.0115, -0.0300,  0.0041,  ...,  0.0088, -0.0150, -0.0295]],\n",
      "       grad_fn=<DivBackward0>)\n"
     ]
    }
   ],
   "source": [
    "print(pooler_output)\n",
    "print(text_embeds)"
   ]
  },
  {
   "cell_type": "code",
   "execution_count": null,
   "id": "a988b9fe",
   "metadata": {},
   "outputs": [],
   "source": []
  }
 ],
 "metadata": {
  "kernelspec": {
   "display_name": "Python 3 (ipykernel)",
   "language": "python",
   "name": "python3"
  },
  "language_info": {
   "codemirror_mode": {
    "name": "ipython",
    "version": 3
   },
   "file_extension": ".py",
   "mimetype": "text/x-python",
   "name": "python",
   "nbconvert_exporter": "python",
   "pygments_lexer": "ipython3",
   "version": "3.9.6"
  }
 },
 "nbformat": 4,
 "nbformat_minor": 5
}
